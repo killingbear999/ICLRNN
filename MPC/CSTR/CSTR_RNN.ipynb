{
 "cells": [
  {
   "cell_type": "code",
   "execution_count": null,
   "id": "cc986002",
   "metadata": {
    "executionInfo": {
     "elapsed": 5363,
     "status": "ok",
     "timestamp": 1701240178103,
     "user": {
      "displayName": "Wang Zihao",
      "userId": "13688795653924779981"
     },
     "user_tz": -480
    },
    "id": "cc986002"
   },
   "outputs": [],
   "source": [
    "import numpy as np\n",
    "import matplotlib.pyplot as plt\n",
    "%matplotlib inline\n",
    "from sklearn import preprocessing\n",
    "from sklearn.model_selection import train_test_split\n",
    "from sklearn.metrics import mean_absolute_percentage_error\n",
    "from keras.models import Sequential\n",
    "from keras.layers import Dense, SimpleRNN, Input, Activation, Dropout, Add, LSTM, GRU, RNN, LayerNormalization, BatchNormalization, Conv1D, MaxPooling1D, Flatten, Layer\n",
    "from keras import backend as K\n",
    "from keras.optimizers import Adam,SGD\n",
    "import tensorflow as tf\n",
    "from keras import Model, regularizers, activations\n",
    "from keras.constraints import Constraint\n",
    "import pickle"
   ]
  },
  {
   "cell_type": "code",
   "execution_count": null,
   "id": "6a09c682",
   "metadata": {
    "executionInfo": {
     "elapsed": 9,
     "status": "ok",
     "timestamp": 1701240197313,
     "user": {
      "displayName": "Wang Zihao",
      "userId": "13688795653924779981"
     },
     "user_tz": -480
    },
    "id": "6a09c682"
   },
   "outputs": [],
   "source": [
    "# specifying constant parameters\n",
    "\n",
    "T_0 = 300\n",
    "V = 1\n",
    "k_0 = 8.46*(np.power(10,6))\n",
    "C_p = 0.231\n",
    "rho_L = 1000\n",
    "Q_s = 0.0\n",
    "T_s = 401.8727\n",
    "F = 5\n",
    "E = 5*(np.power(10,4))\n",
    "delta_H = -1.15*(np.power(10,4))\n",
    "R = 8.314\n",
    "C_A0s = 4\n",
    "C_As = 1.9537\n",
    "t_final = 0.005\n",
    "t_step = 1e-4\n",
    "P = np.array([[1060, 22], [22, 0.52]])\n",
    "\n",
    "num_step = 10"
   ]
  },
  {
   "cell_type": "code",
   "execution_count": null,
   "id": "da2f7b55",
   "metadata": {
    "executionInfo": {
     "elapsed": 8,
     "status": "ok",
     "timestamp": 1701240197314,
     "user": {
      "displayName": "Wang Zihao",
      "userId": "13688795653924779981"
     },
     "user_tz": -480
    },
    "id": "da2f7b55"
   },
   "outputs": [],
   "source": [
    "# generating inputs and initial states for CSTR, all expressed in deviation form\n",
    "\n",
    "u1_list = np.linspace(-3.5, 3.5, 4, endpoint=True)\n",
    "u2_list = np.linspace(-5e5, 5e5, 4, endpoint=True)\n",
    "T_initial = np.linspace(300, 600, 100, endpoint=True) - T_s\n",
    "CA_initial = np.linspace(0, 6, 100, endpoint=True) - C_As"
   ]
  },
  {
   "cell_type": "code",
   "execution_count": null,
   "id": "e2e9e386",
   "metadata": {
    "colab": {
     "base_uri": "https://localhost:8080/"
    },
    "executionInfo": {
     "elapsed": 7,
     "status": "ok",
     "timestamp": 1701240197314,
     "user": {
      "displayName": "Wang Zihao",
      "userId": "13688795653924779981"
     },
     "user_tz": -480
    },
    "id": "e2e9e386",
    "outputId": "ac9f265c-1441-45bb-991f-9ca3b6b5eba4"
   },
   "outputs": [],
   "source": [
    "# sieve out initial states that lie outside of stability region\n",
    "\n",
    "T_start = list()\n",
    "CA_start = list()\n",
    "\n",
    "for T in T_initial:\n",
    "    for CA in CA_initial:\n",
    "        x = np.array([CA, T])\n",
    "        if x @ P @ x < 372:\n",
    "            CA_start.append(CA)\n",
    "            T_start.append(T)\n",
    "print(\"number of initial conditions: {}\".format(len(CA_start)))\n",
    "\n",
    "# convert to np.arrays\n",
    "CA_start = np.array([CA_start])\n",
    "T_start = np.array([T_start])\n",
    "x_deviation = np.concatenate((CA_start.T, T_start.T), axis=1)  # every row is a pair of initial states within stability region\n",
    "print(\"shape of x_deviation is {}\".format(x_deviation.shape))"
   ]
  },
  {
   "cell_type": "code",
   "execution_count": null,
   "id": "eadad8ed",
   "metadata": {
    "executionInfo": {
     "elapsed": 5,
     "status": "ok",
     "timestamp": 1701240197314,
     "user": {
      "displayName": "Wang Zihao",
      "userId": "13688795653924779981"
     },
     "user_tz": -480
    },
    "id": "eadad8ed"
   },
   "outputs": [],
   "source": [
    "def CSTR_simulation(F, V, C_A0, k_0, E, R, T_0, delta_H, rho_L, C_p, Q, t_final, t_step, C_A_initial, T_initial):\n",
    "    \"\"\"\n",
    "        simulating CSTR using forward Euler method\n",
    "    \"\"\"\n",
    "\n",
    "    C_A_list = list()  # evolution of CA over time\n",
    "    T_list = list()  # evolution of T over time\n",
    "\n",
    "    C_A = C_A_initial + C_As\n",
    "    T = T_initial + T_s\n",
    "\n",
    "    for i in range(int(t_final / t_step)):\n",
    "        dCAdt = F / V * (C_A0 - C_A) - k_0 * np.exp(-E / (R * T)) * C_A**2\n",
    "        dTdt = F / V * (T_0 - T) - delta_H / (rho_L * C_p) * k_0 * np.exp(-E / (R * T)) * C_A**2 + Q / (rho_L * C_p * V)\n",
    "\n",
    "        T += dTdt * t_step\n",
    "        C_A += dCAdt * t_step\n",
    "\n",
    "        if i % 5 == 0:\n",
    "          C_A_list.append(C_A - C_As)  # in deviation form\n",
    "          T_list.append(T - T_s)  # in deviation form\n",
    "\n",
    "    return C_A_list, T_list"
   ]
  },
  {
   "cell_type": "code",
   "execution_count": null,
   "id": "59882525",
   "metadata": {
    "executionInfo": {
     "elapsed": 9208,
     "status": "ok",
     "timestamp": 1701240206517,
     "user": {
      "displayName": "Wang Zihao",
      "userId": "13688795653924779981"
     },
     "user_tz": -480
    },
    "id": "59882525"
   },
   "outputs": [],
   "source": [
    "# get X and y data for training and testing\n",
    "\n",
    "CA_output = list()\n",
    "T_output = list()\n",
    "CA_input = list()\n",
    "T_input = list()\n",
    "CA0_input = list()\n",
    "Q_input = list()\n",
    "\n",
    "for u1 in u1_list:\n",
    "    C_A0 = u1 + C_A0s\n",
    "\n",
    "    for u2 in u2_list:\n",
    "        Q = u2 + Q_s\n",
    "\n",
    "        for C_A_initial, T_initial in x_deviation:\n",
    "            CA0_input.append(u1)\n",
    "            Q_input.append(u2)\n",
    "            CA_input.append(C_A_initial)\n",
    "            T_input.append(T_initial)\n",
    "\n",
    "            C_A_list, T_list = CSTR_simulation(F, V, C_A0, k_0, E, R, T_0, delta_H, rho_L, C_p, Q, t_final, t_step, C_A_initial, T_initial)\n",
    "            CA_output.append(C_A_list)\n",
    "            T_output.append(T_list)"
   ]
  },
  {
   "cell_type": "code",
   "execution_count": null,
   "id": "8X_9tOfuxL0o",
   "metadata": {
    "colab": {
     "base_uri": "https://localhost:8080/"
    },
    "executionInfo": {
     "elapsed": 6,
     "status": "ok",
     "timestamp": 1701240206517,
     "user": {
      "displayName": "Wang Zihao",
      "userId": "13688795653924779981"
     },
     "user_tz": -480
    },
    "id": "8X_9tOfuxL0o",
    "outputId": "bf233926-9382-41d3-83db-995a188455b8"
   },
   "outputs": [],
   "source": [
    "CA0_input = np.array(CA0_input)\n",
    "print(CA0_input.shape)\n",
    "CA_output = np.array(CA_output)\n",
    "print(CA_output.shape)"
   ]
  },
  {
   "cell_type": "code",
   "execution_count": null,
   "id": "2fc6ede5",
   "metadata": {
    "colab": {
     "base_uri": "https://localhost:8080/"
    },
    "executionInfo": {
     "elapsed": 5,
     "status": "ok",
     "timestamp": 1701240206517,
     "user": {
      "displayName": "Wang Zihao",
      "userId": "13688795653924779981"
     },
     "user_tz": -480
    },
    "id": "2fc6ede5",
    "outputId": "8809502f-c593-4337-ac2a-0c0b7ef67c5e"
   },
   "outputs": [],
   "source": [
    "# collate input for RNN\n",
    "\n",
    "CA0_input = np.array(CA0_input)\n",
    "CA0_input = CA0_input.reshape(-1,1,1)\n",
    "\n",
    "Q_input = np.array(Q_input)\n",
    "Q_input = Q_input.reshape(-1,1,1)\n",
    "\n",
    "CA_input = np.array(CA_input)\n",
    "CA_input = CA_input.reshape(-1,1,1)\n",
    "\n",
    "T_input = np.array(T_input)\n",
    "T_input = T_input.reshape(-1,1,1)\n",
    "\n",
    "RNN_input = np.concatenate((T_input, CA_input, Q_input, CA0_input), axis=2)\n",
    "\n",
    "\"\"\"\n",
    "    the input to RNN is in the shape [number of samples x timestep x variables], and the input variables are same for every\n",
    "    time step, not sure if my treatment here is correct\n",
    "\"\"\"\n",
    "\n",
    "RNN_input = RNN_input.repeat(num_step, axis=1)\n",
    "print(\"RNN_input shape is {}\".format(RNN_input.shape))"
   ]
  },
  {
   "cell_type": "code",
   "execution_count": null,
   "id": "358446c1",
   "metadata": {
    "colab": {
     "base_uri": "https://localhost:8080/"
    },
    "executionInfo": {
     "elapsed": 4,
     "status": "ok",
     "timestamp": 1701240206517,
     "user": {
      "displayName": "Wang Zihao",
      "userId": "13688795653924779981"
     },
     "user_tz": -480
    },
    "id": "358446c1",
    "outputId": "706ab42e-70a8-40bb-f2fd-14f4e9d12939"
   },
   "outputs": [],
   "source": [
    "# checking the input is duplicated 100 times for each time step\n",
    "print(RNN_input[0, 0])\n",
    "print(RNN_input[0, 1])"
   ]
  },
  {
   "cell_type": "code",
   "execution_count": null,
   "id": "fd86ba27",
   "metadata": {
    "colab": {
     "base_uri": "https://localhost:8080/"
    },
    "executionInfo": {
     "elapsed": 4,
     "status": "ok",
     "timestamp": 1701240206518,
     "user": {
      "displayName": "Wang Zihao",
      "userId": "13688795653924779981"
     },
     "user_tz": -480
    },
    "id": "fd86ba27",
    "outputId": "416cbb08-44e8-46f3-9907-7615c9752800"
   },
   "outputs": [],
   "source": [
    "# collate output for RNN\n",
    "\n",
    "CA_output = np.array(CA_output)\n",
    "CA_output = CA_output.reshape(-1, num_step, 1)\n",
    "\n",
    "T_output = np.array(T_output)\n",
    "T_output = T_output.reshape(-1, num_step, 1)\n",
    "\n",
    "RNN_output = np.concatenate((T_output, CA_output), axis=2)\n",
    "print(\"RNN_output shape is {}\".format(RNN_output.shape))  # output shape: number of samples x timestep x variables"
   ]
  },
  {
   "cell_type": "code",
   "execution_count": null,
   "id": "1cb81232",
   "metadata": {
    "colab": {
     "base_uri": "https://localhost:8080/"
    },
    "executionInfo": {
     "elapsed": 4,
     "status": "ok",
     "timestamp": 1701240206518,
     "user": {
      "displayName": "Wang Zihao",
      "userId": "13688795653924779981"
     },
     "user_tz": -480
    },
    "id": "1cb81232",
    "outputId": "94cd1bac-c766-46b0-de5c-655c11fbb6cb"
   },
   "outputs": [],
   "source": [
    "# checking output\n",
    "print(RNN_output[0, :5])"
   ]
  },
  {
   "cell_type": "code",
   "execution_count": null,
   "id": "6f05c4fc",
   "metadata": {
    "colab": {
     "base_uri": "https://localhost:8080/"
    },
    "id": "6f05c4fc",
    "outputId": "6db73470-2ab9-46b5-95a3-87dd1d88b17f"
   },
   "outputs": [],
   "source": [
    "# set the seed for reproducibility\n",
    "tf.random.set_seed(42)\n",
    "\n",
    "num_dims = 4\n",
    "\n",
    "# split into train and test sets\n",
    "X_train, X_test, y_train, y_test = train_test_split(RNN_input, RNN_output, test_size=0.3, random_state=123)\n",
    "\n",
    "# define scalers for both X and y base on training data only\n",
    "scaler_X = preprocessing.StandardScaler().fit(X_train.reshape(-1, num_dims))\n",
    "scaler_y = preprocessing.StandardScaler().fit(y_train.reshape(-1, 2))\n",
    "\n",
    "X_train = scaler_X.transform(X_train.reshape(-1, num_dims)).reshape(-1,num_step,num_dims)\n",
    "X_test = scaler_X.transform(X_test.reshape(-1, num_dims)).reshape(-1,num_step,num_dims)\n",
    "y_train = scaler_y.transform(y_train.reshape(-1,2)).reshape(-1,num_step,2)\n",
    "y_test_normalized = scaler_y.transform(y_test.reshape(-1,2)).reshape(-1,num_step,2)\n",
    "\n",
    "# add noise\n",
    "noise = 0\n",
    "y_train = y_train + np.random.normal(0, noise, y_train.shape)\n",
    "\n",
    "model = Sequential()\n",
    "model.add(SimpleRNN(64, activation='relu', return_sequences=True))\n",
    "model.add(SimpleRNN(64, activation='relu', return_sequences=True))\n",
    "model.add(Dense(2, activation='linear'))\n",
    "\n",
    "model.compile(optimizer='adam', loss='mean_squared_error', metrics=[tf.keras.metrics.MeanSquaredError()])\n",
    "history = model.fit(X_train, y_train, epochs=200, batch_size=256, validation_split=0.25, verbose=2)\n",
    "training_loss = history.history['val_loss'][-1]\n",
    "print(training_loss)\n",
    "\n",
    "loss = model.evaluate(X_test, y_test_normalized, batch_size=256)\n",
    "test_loss = loss[0]\n",
    "print(test_loss)\n",
    "\n",
    "name = 'rnn_64_'\n",
    "name = name + str(noise) + '.h5'\n",
    "model.save(name)\n",
    "\n",
    "model.summary()"
   ]
  },
  {
   "cell_type": "code",
   "execution_count": null,
   "id": "BdVN9TfSlipC",
   "metadata": {
    "colab": {
     "base_uri": "https://localhost:8080/"
    },
    "executionInfo": {
     "elapsed": 303,
     "status": "ok",
     "timestamp": 1701230048313,
     "user": {
      "displayName": "Wang Zihao",
      "userId": "13688795653924779981"
     },
     "user_tz": -480
    },
    "id": "BdVN9TfSlipC",
    "outputId": "c990468f-2957-42f6-f0ef-11b030ccd855"
   },
   "outputs": [],
   "source": [
    "print(\"mean of input T, CA, Q, CA0 = \", scaler_X.mean_)\n",
    "print(\"std of input T, CA, Q, CA0 = \", scaler_X.scale_)\n",
    "print(\"mean of output T, CA = \", scaler_y.mean_)\n",
    "print(\"std of output T, CA = \", scaler_y.scale_)"
   ]
  },
  {
   "cell_type": "code",
   "execution_count": null,
   "id": "ZKR5zu8duwbW",
   "metadata": {
    "id": "ZKR5zu8duwbW"
   },
   "outputs": [],
   "source": [
    "# Plain RNN with relu\n",
    "# model.save('rnn_0.h5')\n",
    "# model = tf.keras.models.load_model('rnn_256_0.h5')"
   ]
  },
  {
   "cell_type": "code",
   "execution_count": null,
   "id": "eqjUR_qVYdyq",
   "metadata": {
    "colab": {
     "base_uri": "https://localhost:8080/"
    },
    "executionInfo": {
     "elapsed": 10706,
     "status": "ok",
     "timestamp": 1701231466503,
     "user": {
      "displayName": "Wang Zihao",
      "userId": "13688795653924779981"
     },
     "user_tz": -480
    },
    "id": "eqjUR_qVYdyq",
    "outputId": "59a60d84-0a2b-43a4-85d2-737c57374609"
   },
   "outputs": [],
   "source": [
    "results = model.evaluate(X_test, y_test_normalized, batch_size=256)\n",
    "print(\"test loss, test acc:\", results)"
   ]
  },
  {
   "cell_type": "code",
   "execution_count": null,
   "id": "QBqsaQM1AvPk",
   "metadata": {
    "colab": {
     "base_uri": "https://localhost:8080/"
    },
    "executionInfo": {
     "elapsed": 310,
     "status": "ok",
     "timestamp": 1701053291100,
     "user": {
      "displayName": "Wang Zihao",
      "userId": "13688795653924779981"
     },
     "user_tz": -480
    },
    "id": "QBqsaQM1AvPk",
    "outputId": "d8e2e40b-e116-4087-afab-c72b592b3338"
   },
   "outputs": [],
   "source": [
    "from tensorflow.python.framework.convert_to_constants import convert_variables_to_constants_v2_as_graph\n",
    "\n",
    "def get_flops(model):\n",
    "    concrete = tf.function(lambda inputs: model(inputs))\n",
    "    concrete_func = concrete.get_concrete_function(\n",
    "        [tf.TensorSpec([1, *inputs.shape[1:]]) for inputs in model.inputs])\n",
    "    frozen_func, graph_def = convert_variables_to_constants_v2_as_graph(concrete_func, lower_control_flow=False)\n",
    "    with tf.Graph().as_default() as graph:\n",
    "        tf.graph_util.import_graph_def(graph_def, name='')\n",
    "        run_meta = tf.compat.v1.RunMetadata()\n",
    "        opts = tf.compat.v1.profiler.ProfileOptionBuilder.float_operation()\n",
    "        flops = tf.compat.v1.profiler.profile(graph=graph, run_meta=run_meta, cmd=\"op\", options=opts)\n",
    "        return flops.total_float_ops\n",
    "\n",
    "print(\"The FLOPs is:{}\".format(get_flops(model)),flush=True)\n",
    "model.summary()"
   ]
  },
  {
   "cell_type": "code",
   "execution_count": null,
   "id": "z3WiUyZFw-Py",
   "metadata": {
    "colab": {
     "base_uri": "https://localhost:8080/",
     "height": 472
    },
    "executionInfo": {
     "elapsed": 745,
     "status": "ok",
     "timestamp": 1701053295775,
     "user": {
      "displayName": "Wang Zihao",
      "userId": "13688795653924779981"
     },
     "user_tz": -480
    },
    "id": "z3WiUyZFw-Py",
    "outputId": "da12ce0a-f272-434f-a803-dde518ca5398"
   },
   "outputs": [],
   "source": [
    "# plot training and validation losses against epochs\n",
    "\n",
    "loss = history.history['loss']\n",
    "val_loss = history.history['val_loss']\n",
    "epochs = range(1, len(loss) + 1)\n",
    "plt.plot(epochs, loss, 'r', label='Training loss')\n",
    "plt.plot(epochs, val_loss, 'b', label='Validation loss')\n",
    "plt.title('Normal RNN Training and validation loss')\n",
    "plt.xlabel(\"epoch\")\n",
    "plt.ylabel(\"loss\")\n",
    "plt.legend()\n",
    "plt.show()"
   ]
  },
  {
   "cell_type": "code",
   "execution_count": null,
   "id": "xeUbhoNu1HbR",
   "metadata": {
    "colab": {
     "base_uri": "https://localhost:8080/",
     "height": 926
    },
    "executionInfo": {
     "elapsed": 3822,
     "status": "ok",
     "timestamp": 1701053374182,
     "user": {
      "displayName": "Wang Zihao",
      "userId": "13688795653924779981"
     },
     "user_tz": -480
    },
    "id": "xeUbhoNu1HbR",
    "outputId": "48978226-8897-4383-c47c-26108591b2e6"
   },
   "outputs": [],
   "source": [
    "\"\"\"\n",
    "    equation for the stability ellipse is 1060x^2 + 44xy + 0.52y^2 - 372 = 0\n",
    "\"\"\"\n",
    "# prepare x and y coordinates for plotting the stability region\n",
    "y = np.linspace(-100, 100, 100000, endpoint=True)\n",
    "\n",
    "x_upper = list()\n",
    "x_lower = list()\n",
    "y_plot = list()\n",
    "\n",
    "for i in y:\n",
    "    sqrt = np.sqrt(-2688000 * i**2 + 15772800000)\n",
    "    if sqrt >= 0:\n",
    "        y_plot.append(i)\n",
    "        x_upper.append((-4400 * i + sqrt) / 212000)\n",
    "        x_lower.append((-4400 * i - sqrt) / 212000)\n",
    "        pass\n",
    "    pass\n",
    "\n",
    "plt.figure(figsize=(10,10))\n",
    "\n",
    "# # plot the first 10 samples and their trajectories\n",
    "y_predict = model.predict(X_test)\n",
    "print(y_predict.shape)\n",
    "\n",
    "y_predict = y_predict.reshape(-1,2)\n",
    "y_predict = scaler_y.inverse_transform(y_predict)\n",
    "y_predict = y_predict.reshape(-1,num_step,2)\n",
    "\n",
    "X_plot = X_test.reshape(-1,num_dims)\n",
    "X_plot = scaler_X.inverse_transform(X_plot)\n",
    "X_plot = X_plot.reshape(-1,num_step,num_dims)\n",
    "\n",
    "for i in range(10):\n",
    "    if i == 0:  # only add label to 1 data point\n",
    "        plt.plot(X_plot[i, 0, 1], X_plot[i, 0, 0], marker=\"*\", markersize=15, color='pink')\n",
    "        plt.plot(y_test[i, :, 1], y_test[i, :, 0], color='cyan', lw=2, label='Test')\n",
    "        plt.plot(y_predict[i, :, 1], y_predict[i, :, 0], color='black', lw=2, ls=':', label='Predicted')\n",
    "    else:\n",
    "        plt.plot(X_plot[i, 0, 1], X_plot[i, 0, 0], marker=\"*\", markersize=15, color='pink')\n",
    "        plt.plot(y_test[i, :, 1], y_test[i, :, 0], color='cyan', lw=2)\n",
    "        plt.plot(y_predict[i, :, 1], y_predict[i, :, 0], color='black', lw=2, ls=':')\n",
    "\n",
    "# plot stability region\n",
    "plt.plot(x_lower, y_plot, color='steelblue', label='stability region')\n",
    "plt.plot(x_upper, y_plot, color='steelblue')\n",
    "plt.ylim([-100, 100])\n",
    "plt.xlim([-2, 2])\n",
    "\n",
    "plt.xlabel(\"C_A - C_As\")\n",
    "plt.ylabel(\"T - T_s\")\n",
    "plt.legend()\n",
    "plt.savefig('rnn_noise_0.pdf')\n",
    "plt.show()"
   ]
  }
 ],
 "metadata": {
  "colab": {
   "provenance": []
  },
  "kernelspec": {
   "display_name": "Python 3 (ipykernel)",
   "language": "python",
   "name": "python3"
  },
  "language_info": {
   "codemirror_mode": {
    "name": "ipython",
    "version": 3
   },
   "file_extension": ".py",
   "mimetype": "text/x-python",
   "name": "python",
   "nbconvert_exporter": "python",
   "pygments_lexer": "ipython3",
   "version": "3.11.3"
  }
 },
 "nbformat": 4,
 "nbformat_minor": 5
}
