{
 "cells": [
  {
   "cell_type": "code",
   "execution_count": null,
   "id": "40b32b68",
   "metadata": {
    "executionInfo": {
     "elapsed": 4491,
     "status": "ok",
     "timestamp": 1700023650790,
     "user": {
      "displayName": "Wang Zihao",
      "userId": "13688795653924779981"
     },
     "user_tz": -480
    },
    "id": "40b32b68"
   },
   "outputs": [],
   "source": [
    "import numpy as np\n",
    "import pandas as pd\n",
    "import matplotlib.pyplot as plt\n",
    "%matplotlib inline\n",
    "import tensorflow as tf\n",
    "import pickle\n",
    "\n",
    "from sklearn import preprocessing\n",
    "from sklearn.model_selection import train_test_split\n",
    "from keras.models import Sequential\n",
    "from keras.layers import Dense, SimpleRNN, Input, Activation, Dropout, Add, LSTM, GRU, RNN, LayerNormalization, BatchNormalization, Conv1D, MaxPooling1D, Flatten, Layer\n",
    "from keras import backend as K\n",
    "from keras.optimizers import Adam,SGD\n",
    "import tensorflow as tf\n",
    "from keras import Model, regularizers, activations\n",
    "from keras.constraints import Constraint\n",
    "import pickle"
   ]
  },
  {
   "cell_type": "code",
   "execution_count": null,
   "id": "9ab27e5e",
   "metadata": {
    "executionInfo": {
     "elapsed": 106570,
     "status": "ok",
     "timestamp": 1699943292545,
     "user": {
      "displayName": "Wang Zihao",
      "userId": "13688795653924779981"
     },
     "user_tz": -480
    },
    "id": "9ab27e5e"
   },
   "outputs": [],
   "source": [
    "# 2023-01\n",
    "dates = [14, 15, 16, 17, 18, 19, 20, 21, 22, 23, 24, 25, 26, 27, 28, 29, 30]\n",
    "data = pd.read_csv('data/2023-01/[170] 2023-01-13.txt',sep='\t')\n",
    "for date in dates:\n",
    "  filename = 'data/2023-01/[170] 2023-01-' + str(date) + '.txt'\n",
    "  new_data = pd.read_csv(filename,sep='\t')\n",
    "  data = pd.concat([data, new_data])\n",
    "\n",
    "# 2023-02\n",
    "dates = ['01', '02', '03', '04', '05', '06', '07', '08', '09', 10, 11, 12, 13, 14, 15, 16, 17, 18, 19, 20, 21, 22, 23, 24, 25, 26, 27, 28]\n",
    "for date in dates:\n",
    "  filename = 'data/2023-02/[170] 2023-02-' + str(date) + '.txt'\n",
    "  new_data = pd.read_csv(filename,sep='\t')\n",
    "  data = pd.concat([data, new_data])\n",
    "\n",
    "# 2023-03\n",
    "dates = ['01', '02', '03', '04', '05', '06', '07', '08', '09', 10, 11, 12, 13, 14, 15, 16, 17, 18, 19, 20, 21, 22, 23, 24, 25, 26, 27, 28, 29, 30, 31]\n",
    "for date in dates:\n",
    "  filename = 'data/2023-03/[170] 2023-03-' + str(date) + '.txt'\n",
    "  new_data = pd.read_csv(filename,sep='\t')\n",
    "  data = pd.concat([data, new_data])\n",
    "\n",
    "# 2023-04\n",
    "dates = ['01', '02', '03', '04', '05', '06', '07', '08', '09', 10, 11, 12, 13, 14, 15, 16, 17, 18, 19, 20, 21, 22, 23, 24, 25, 26, 27, 28, 29, 30]\n",
    "for date in dates:\n",
    "  filename = 'data/2023-04/[170] 2023-04-' + str(date) + '.txt'\n",
    "  new_data = pd.read_csv(filename,sep='\t')\n",
    "  data = pd.concat([data, new_data])\n",
    "\n",
    "# 2023-05\n",
    "dates = ['01', '02', '03', '04', '05', '06', '07', '08', '09', 10, 11, 12, 13, 14, 15, 16, 17, 18, 19, 20, 21, 22, 23, 24, 25, 26, 27, 28, 29, 30, 31]\n",
    "for date in dates:\n",
    "  filename = 'data/2023-05/[170] 2023-05-' + str(date) + '.txt'\n",
    "  new_data = pd.read_csv(filename,sep='\t')\n",
    "  data = pd.concat([data, new_data])\n",
    "\n",
    "# 2023-06\n",
    "dates = ['01', '02', '03', '04', '05', '06', '07', '08', '09', 10, 11, 12, 13, 14, 15, 16, 17, 18, 19, 20, 21, 22, 23, 24, 25, 26, 27, 28, 29, 30]\n",
    "for date in dates:\n",
    "  filename = 'data/2023-06/[170] 2023-06-' + str(date) + '.txt'\n",
    "  new_data = pd.read_csv(filename,sep='\t')\n",
    "  data = pd.concat([data, new_data])\n",
    "\n",
    "# 2023-07\n",
    "dates = ['01', '02', '03', '04', '05', '06', '07', '08', '09', 10, 11, 12, 13, 14, 15, 16, 17, 18, 19, 20, 21, 22, 23, 24, 25, 26, 27, 28, 29, 30, 31]\n",
    "for date in dates:\n",
    "  filename = 'data/2023-07/[170] 2023-07-' + str(date) + '.txt'\n",
    "  new_data = pd.read_csv(filename,sep='\t')\n",
    "  data = pd.concat([data, new_data])\n",
    "\n",
    "# 2023-08\n",
    "dates = ['01', '02', '03', '04', '05', '06', '07', '08', '09', 10, 11, 12, 13, 14, 15, 16, 17, 18, 19, 20, 21, 22, 23, 24, 25, 26, 27, 28, 29, 30, 31]\n",
    "for date in dates:\n",
    "  filename = 'data/2023-08/[170] 2023-08-' + str(date) + '.txt'\n",
    "  new_data = pd.read_csv(filename,sep='\t')\n",
    "  data = pd.concat([data, new_data])\n",
    "\n",
    "# 2023-09\n",
    "dates = ['01', '02', '03', '04', '05', '06', '07', '08', '09', 10, 11, 12, 13, 14, 15, 16, 17, 18, 19, 20, 21, 22, 23, 24, 25, 26, 27, 28, 29, 30]\n",
    "for date in dates:\n",
    "  filename = 'data/2023-09/[170] 2023-09-' + str(date) + '.txt'\n",
    "  new_data = pd.read_csv(filename,sep='\t')\n",
    "  data = pd.concat([data, new_data])\n",
    "\n",
    "# 2023-10\n",
    "dates = ['01', '02', '03', '04', '05', '06', '07', '08', '09', 10, 11, 12, 13, 14, 15, 16, 17, 18, 19, 20, 21, 22, 23, 24, 25, 26, 27, 28, 29, 30, 31]\n",
    "for date in dates:\n",
    "  filename = 'data/2023-10/[170] 2023-10-' + str(date) + '.txt'\n",
    "  new_data = pd.read_csv(filename,sep='\t')\n",
    "  data = pd.concat([data, new_data])\n",
    "\n",
    "# 2023-11\n",
    "dates = ['01', '02', '03', '04', '05', '06', '07', '08', '09', 10, 11, 12, 13, 14, 15, 16, 17, 18, 19, 20, 21, 22, 23, 24, 25, 26, 27, 28, 29, 30]\n",
    "for date in dates:\n",
    "  filename = 'data/2023-11/[170] 2023-11-' + str(date) + '.txt'\n",
    "  new_data = pd.read_csv(filename,sep='\t')\n",
    "  data = pd.concat([data, new_data])\n",
    "\n",
    "# 2023-12\n",
    "dates = ['01', '02', '03', '04', '05', '06', '07', '08', '09', 10, 11, 12, 13, 14, 15, 16, 17, 18, 19, 20, 21, 22, 23, 24, 25, 26, 27, 28, 29, 30, 31]\n",
    "for date in dates:\n",
    "  filename = 'data/2023-12/[170] 2023-12-' + str(date) + '.txt'\n",
    "  new_data = pd.read_csv(filename,sep='\t')\n",
    "  data = pd.concat([data, new_data])"
   ]
  },
  {
   "cell_type": "code",
   "execution_count": null,
   "id": "53086ba0",
   "metadata": {
    "colab": {
     "base_uri": "https://localhost:8080/"
    },
    "executionInfo": {
     "elapsed": 3,
     "status": "ok",
     "timestamp": 1699943292545,
     "user": {
      "displayName": "Wang Zihao",
      "userId": "13688795653924779981"
     },
     "user_tz": -480
    },
    "id": "53086ba0",
    "outputId": "10cea8ca-320c-41ac-fcc3-1200681e6dc0"
   },
   "outputs": [],
   "source": [
    "print(data.head())"
   ]
  },
  {
   "cell_type": "code",
   "execution_count": null,
   "id": "b310bb62",
   "metadata": {
    "colab": {
     "base_uri": "https://localhost:8080/"
    },
    "executionInfo": {
     "elapsed": 950,
     "status": "ok",
     "timestamp": 1699943325814,
     "user": {
      "displayName": "Wang Zihao",
      "userId": "13688795653924779981"
     },
     "user_tz": -480
    },
    "id": "b310bb62",
    "outputId": "79210b1d-cb49-4996-c3d8-06c197ec1feb"
   },
   "outputs": [],
   "source": [
    "SI_data = data[['Tm', 'AvgGmod05_N_1','AvgGmod05_S_1', 'AvgHamb_1', 'AvgTamb_1', 'AvgTmod05_N_1', 'AvgTmod05_S_1', 'AvgWindS_1', 'AvgWindD_1']]\n",
    "SI_data = SI_data.set_index('Tm')\n",
    "print(SI_data.head())"
   ]
  },
  {
   "cell_type": "code",
   "execution_count": null,
   "id": "96481a35",
   "metadata": {
    "executionInfo": {
     "elapsed": 309,
     "status": "ok",
     "timestamp": 1699943889849,
     "user": {
      "displayName": "Wang Zihao",
      "userId": "13688795653924779981"
     },
     "user_tz": -480
    },
    "id": "96481a35"
   },
   "outputs": [],
   "source": [
    "SI_north = SI_data['AvgGmod05_N_1'].to_numpy()\n",
    "SI_south = SI_data['AvgGmod05_S_1'].to_numpy()\n",
    "Ambient_humidity = SI_data['AvgHamb_1'].to_numpy()\n",
    "Ambient_temp = SI_data['AvgTamb_1'].to_numpy()\n",
    "Temp_north = SI_data['AvgTmod05_N_1'].to_numpy()\n",
    "Temp_south = SI_data['AvgTmod05_S_1'].to_numpy()\n",
    "Wind_speed = SI_data['AvgWindS_1'].to_numpy()\n",
    "Wind_direction = SI_data['AvgWindD_1'].to_numpy()"
   ]
  },
  {
   "cell_type": "code",
   "execution_count": null,
   "id": "NYvrfvxzGr8p",
   "metadata": {
    "colab": {
     "base_uri": "https://localhost:8080/",
     "height": 1000
    },
    "executionInfo": {
     "elapsed": 4466,
     "status": "ok",
     "timestamp": 1699944384148,
     "user": {
      "displayName": "Wang Zihao",
      "userId": "13688795653924779981"
     },
     "user_tz": -480
    },
    "id": "NYvrfvxzGr8p",
    "outputId": "2cdfedda-959b-457a-d3a3-f82fe82cc231"
   },
   "outputs": [],
   "source": [
    "plt.figure(figsize=(16, 5))\n",
    "plt.plot(SI_north[0:24*60*3], label='SI north')\n",
    "plt.plot(SI_south[0:24*60*3], label='SI south')\n",
    "plt.plot(Ambient_humidity[0:24*60*3], label='Ambient Humidity')\n",
    "plt.plot(Ambient_temp[0:24*60*3], label='Ambient Temperature')\n",
    "plt.plot(Temp_north[0:24*60*3], label='Temperature North')\n",
    "plt.plot(Temp_south[0:24*60*3], label='Temperature South')\n",
    "plt.plot(Wind_speed[0:24*60*3], label='Wind Speed')\n",
    "plt.plot(Wind_direction[0:24*60*3], label='Wind Direction')\n",
    "plt.legend()\n",
    "plt.title('All')\n",
    "plt.show()\n",
    "\n",
    "plt.figure(figsize=(16, 5))\n",
    "plt.plot(SI_north[0:24*60*3])\n",
    "plt.title('SI north')\n",
    "plt.show()\n",
    "\n",
    "plt.figure(figsize=(16, 5))\n",
    "plt.plot(SI_south[0:24*60*3])\n",
    "plt.title('SI south')\n",
    "plt.show()\n",
    "\n",
    "plt.figure(figsize=(16, 5))\n",
    "plt.plot(Ambient_humidity[0:24*60*3])\n",
    "plt.title('Ambient Humidity')\n",
    "plt.show()\n",
    "\n",
    "plt.figure(figsize=(16, 5))\n",
    "plt.plot(Ambient_temp[0:24*60*3])\n",
    "plt.title('Ambient Temperature')\n",
    "plt.show()\n",
    "\n",
    "plt.figure(figsize=(16, 5))\n",
    "plt.plot(Temp_north[0:24*60*3])\n",
    "plt.title('Temperature north')\n",
    "plt.show()\n",
    "\n",
    "plt.figure(figsize=(16, 5))\n",
    "plt.plot(Temp_south[0:24*60*3])\n",
    "plt.title('Temperature south')\n",
    "plt.show()\n",
    "\n",
    "plt.figure(figsize=(16, 5))\n",
    "plt.plot(Wind_speed[0:24*60*3])\n",
    "plt.title('Wind Speed')\n",
    "plt.show()\n",
    "\n",
    "plt.figure(figsize=(16, 5))\n",
    "plt.plot(Wind_direction[0:24*60*3])\n",
    "plt.title('Wind Direction')\n",
    "plt.show()"
   ]
  },
  {
   "cell_type": "code",
   "execution_count": null,
   "id": "284MDQP48B_D",
   "metadata": {
    "executionInfo": {
     "elapsed": 5788,
     "status": "ok",
     "timestamp": 1699944907714,
     "user": {
      "displayName": "Wang Zihao",
      "userId": "13688795653924779981"
     },
     "user_tz": -480
    },
    "id": "284MDQP48B_D"
   },
   "outputs": [],
   "source": [
    "def generate_data(data):\n",
    "  win_length = 15\n",
    "  count = 0\n",
    "  data_train = []\n",
    "  data_test = []\n",
    "  while count < len(data):\n",
    "    if count + win_length + 1 < len(data):\n",
    "      data_train.append(data[count:count+win_length])\n",
    "      data_test.append(data[count+win_length+1])\n",
    "      count = count + 1\n",
    "    else:\n",
    "      break\n",
    "  return np.array(data_train).reshape(-1, win_length, 1), np.array(data_test).reshape(-1, 1)\n",
    "\n",
    "SI_north_train, SI_north_test = generate_data(SI_north)\n",
    "SI_south_train, SI_south_test = generate_data(SI_south)\n",
    "Ambient_humidity_train, Ambient_humidity_test = generate_data(Ambient_humidity)\n",
    "Ambient_temp_train, Ambient_temp_test = generate_data(Ambient_temp)\n",
    "Temp_north_train, Temp_north_test = generate_data(Temp_north)\n",
    "Temp_south_train, Temp_south_test = generate_data(Temp_south)\n",
    "Wind_speed_train, Wind_speed_test = generate_data(Wind_speed)\n",
    "Wind_direction_train, Wind_direction_test = generate_data(Wind_direction)"
   ]
  },
  {
   "cell_type": "code",
   "execution_count": null,
   "id": "Ym0z2mWo_O9Y",
   "metadata": {
    "colab": {
     "base_uri": "https://localhost:8080/"
    },
    "executionInfo": {
     "elapsed": 1114,
     "status": "ok",
     "timestamp": 1699944929696,
     "user": {
      "displayName": "Wang Zihao",
      "userId": "13688795653924779981"
     },
     "user_tz": -480
    },
    "id": "Ym0z2mWo_O9Y",
    "outputId": "0dcc6c16-cd57-48fa-b617-2f74883e9085"
   },
   "outputs": [],
   "source": [
    "data_train = np.concatenate([SI_south_train, SI_north_train, Ambient_humidity_train, Ambient_temp_train, Temp_north_train, Temp_south_train, Wind_speed_train, Wind_direction_train], axis=2)\n",
    "data_test = np.concatenate([SI_south_test, SI_north_test], axis=1)\n",
    "print(data_train.shape)\n",
    "print(data_test.shape)"
   ]
  },
  {
   "cell_type": "code",
   "execution_count": null,
   "id": "YkjYxWxOHiNI",
   "metadata": {
    "executionInfo": {
     "elapsed": 1613,
     "status": "ok",
     "timestamp": 1699945058736,
     "user": {
      "displayName": "Wang Zihao",
      "userId": "13688795653924779981"
     },
     "user_tz": -480
    },
    "id": "YkjYxWxOHiNI"
   },
   "outputs": [],
   "source": [
    "win_length = 15\n",
    "\n",
    "# split into train and test sets\n",
    "X_train, X_test, y_train, y_test = train_test_split(data_train, data_test, test_size=0.05, random_state=123, shuffle=False)\n",
    "\n",
    "# define scalers for both X and y base on training data only\n",
    "scaler_X = preprocessing.StandardScaler().fit(X_train.reshape(-1, 8))\n",
    "scaler_y = preprocessing.StandardScaler().fit(y_train.reshape(-1, 2))\n",
    "\n",
    "X_train = scaler_X.transform(X_train.reshape(-1, 8)).reshape(-1, win_length, 8)\n",
    "X_test = scaler_X.transform(X_test.reshape(-1, 8)).reshape(-1, win_length, 8)\n",
    "y_train = scaler_y.transform(y_train.reshape(-1, 2)).reshape(-1, 2)\n",
    "y_test_normalized = scaler_y.transform(y_test.reshape(-1, 2)).reshape(-1, 2)"
   ]
  },
  {
   "cell_type": "code",
   "execution_count": null,
   "id": "hoUEjsuKqrPl",
   "metadata": {
    "executionInfo": {
     "elapsed": 8753,
     "status": "ok",
     "timestamp": 1700023665441,
     "user": {
      "displayName": "Wang Zihao",
      "userId": "13688795653924779981"
     },
     "user_tz": -480
    },
    "id": "hoUEjsuKqrPl"
   },
   "outputs": [],
   "source": [
    "# np.save(\"data/X_train\", X_train)\n",
    "# np.save(\"data/X_test\", X_test)\n",
    "# np.save(\"data/y_train\", y_train)\n",
    "# np.save(\"data/y_test\", y_test)\n",
    "# np.save(\"data/y_test_normalized\", y_test_normalized)\n",
    "\n",
    "# X_train = np.load(\"data/X_train.npy\")\n",
    "# X_test = np.load(\"data/X_test.npy\")\n",
    "# y_train = np.load(\"data/y_train.npy\")\n",
    "# y_test = np.load(\"data/y_test.npy\")\n",
    "# y_test_normalized = np.load(\"data/y_test_normalized.npy\")\n",
    "\n",
    "# pickle.dump(scaler_X, open(\"data/scalar_X.sav\", 'wb'))\n",
    "# pickle.dump(scaler_y, open(\"data/scalar_y.sav\", 'wb'))\n",
    "\n",
    "# scaler_X = pickle.load(open(\"data/scalar_X.sav\", 'rb'))\n",
    "# scaler_y = pickle.load(open(\"data/scalar_y.sav\", 'rb'))"
   ]
  },
  {
   "cell_type": "code",
   "execution_count": null,
   "id": "CamP4zLQJATQ",
   "metadata": {
    "colab": {
     "base_uri": "https://localhost:8080/"
    },
    "executionInfo": {
     "elapsed": 436,
     "status": "ok",
     "timestamp": 1700023669632,
     "user": {
      "displayName": "Wang Zihao",
      "userId": "13688795653924779981"
     },
     "user_tz": -480
    },
    "id": "CamP4zLQJATQ",
    "outputId": "f168c2ff-baf6-4320-97d1-f00992e7c017"
   },
   "outputs": [],
   "source": [
    "print(X_train.shape)\n",
    "print(X_test.shape)\n",
    "print(y_train.shape)\n",
    "print(y_test.shape)"
   ]
  },
  {
   "cell_type": "code",
   "execution_count": null,
   "id": "38ZA508QJqv8",
   "metadata": {
    "colab": {
     "base_uri": "https://localhost:8080/",
     "height": 375
    },
    "executionInfo": {
     "elapsed": 1355,
     "status": "error",
     "timestamp": 1700023674308,
     "user": {
      "displayName": "Wang Zihao",
      "userId": "13688795653924779981"
     },
     "user_tz": -480
    },
    "id": "38ZA508QJqv8",
    "outputId": "0ea8a487-50d4-48d7-fb80-a2272be53469"
   },
   "outputs": [],
   "source": [
    "# set the seed for reproducibility\n",
    "tf.random.set_seed(42)\n",
    "\n",
    "X_train = np.load(\"data/X_train.npy\")\n",
    "X_test = np.load(\"data/X_test.npy\")\n",
    "y_train = np.load(\"data/y_train.npy\")\n",
    "y_test_normalized = np.load(\"data/y_test_normalized.npy\")\n",
    "\n",
    "model = Sequential()\n",
    "model.add(SimpleRNN(64, activation='relu', return_sequences=True))\n",
    "model.add(SimpleRNN(64, activation='relu', return_sequences=False))\n",
    "model.add(Dense(2, activation='linear'))\n",
    "\n",
    "model.compile(optimizer='adam', loss='mean_squared_error', metrics=[tf.keras.metrics.MeanSquaredError()])\n",
    "history = model.fit(X_train, y_train, epochs=50, batch_size=256, validation_split=0.25, verbose=2)\n",
    "training_loss = history.history['val_loss'][-1]\n",
    "print(training_loss)\n",
    "\n",
    "loss = model.evaluate(X_test, y_test_normalized, batch_size=256)\n",
    "test_loss = loss[0]\n",
    "print(test_loss)\n",
    "\n",
    "name = 'rnn_64_'\n",
    "name = name + '.h5'\n",
    "model.save(name)\n",
    "\n",
    "model.summary()"
   ]
  },
  {
   "cell_type": "code",
   "execution_count": null,
   "id": "aW5-RgMJSvgX",
   "metadata": {
    "colab": {
     "base_uri": "https://localhost:8080/"
    },
    "executionInfo": {
     "elapsed": 7607,
     "status": "ok",
     "timestamp": 1700023694468,
     "user": {
      "displayName": "Wang Zihao",
      "userId": "13688795653924779981"
     },
     "user_tz": -480
    },
    "id": "aW5-RgMJSvgX",
    "outputId": "74b5b069-23d2-4851-8da0-8ec552f0a195"
   },
   "outputs": [],
   "source": [
    "from tensorflow.python.framework.convert_to_constants import convert_variables_to_constants_v2_as_graph\n",
    "\n",
    "def get_flops(model):\n",
    "    concrete = tf.function(lambda inputs: model(inputs))\n",
    "    concrete_func = concrete.get_concrete_function(\n",
    "        [tf.TensorSpec([1, *inputs.shape[1:]]) for inputs in model.inputs])\n",
    "    frozen_func, graph_def = convert_variables_to_constants_v2_as_graph(concrete_func, lower_control_flow=False)\n",
    "    with tf.Graph().as_default() as graph:\n",
    "        tf.graph_util.import_graph_def(graph_def, name='')\n",
    "        run_meta = tf.compat.v1.RunMetadata()\n",
    "        opts = tf.compat.v1.profiler.ProfileOptionBuilder.float_operation()\n",
    "        flops = tf.compat.v1.profiler.profile(graph=graph, run_meta=run_meta, cmd=\"op\", options=opts)\n",
    "        return flops.total_float_ops\n",
    "\n",
    "print(\"The FLOPs is:{}\".format(get_flops(model)),flush=True)\n",
    "model.summary()"
   ]
  },
  {
   "cell_type": "code",
   "execution_count": null,
   "id": "UrrPBiGgK_2E",
   "metadata": {
    "colab": {
     "base_uri": "https://localhost:8080/"
    },
    "executionInfo": {
     "elapsed": 12086,
     "status": "ok",
     "timestamp": 1700023708574,
     "user": {
      "displayName": "Wang Zihao",
      "userId": "13688795653924779981"
     },
     "user_tz": -480
    },
    "id": "UrrPBiGgK_2E",
    "outputId": "8d40c693-11bd-459e-969e-d655de8d8140"
   },
   "outputs": [],
   "source": [
    "X_train = np.load(\"data/X_train.npy\")\n",
    "X_test = np.load(\"data/X_test.npy\")\n",
    "y_train = np.load(\"data/y_train.npy\")\n",
    "y_test_normalized = np.load(\"data/y_test_normalized.npy\")\n",
    "y_test = np.load(\"data/y_test.npy\")\n",
    "\n",
    "scaler_X = pickle.load(open(\"data/scalar_X.sav\", 'rb'))\n",
    "scaler_y = pickle.load(open(\"data/scalar_y.sav\", 'rb'))\n",
    "model = tf.keras.models.load_model('rnn_256_0.h5')\n",
    "\n",
    "y_predict = model.predict(X_test)\n",
    "print(y_predict.shape)\n",
    "\n",
    "y_predict = y_predict.reshape(-1,2)\n",
    "y_predict = scaler_y.inverse_transform(y_predict)\n",
    "y_predict = y_predict.reshape(-1,2)"
   ]
  },
  {
   "cell_type": "code",
   "execution_count": null,
   "id": "rtB5bHP0LuD6",
   "metadata": {
    "colab": {
     "base_uri": "https://localhost:8080/",
     "height": 1000
    },
    "executionInfo": {
     "elapsed": 2035,
     "status": "ok",
     "timestamp": 1700023828845,
     "user": {
      "displayName": "Wang Zihao",
      "userId": "13688795653924779981"
     },
     "user_tz": -480
    },
    "id": "rtB5bHP0LuD6",
    "outputId": "f258a86a-bdf8-412c-ba78-83c82d5dad09"
   },
   "outputs": [],
   "source": [
    "# color code: \"#E69F00\", \"#56B4E9\", \"#009E73\", \"#0072B2\", \"#D55E00\", \"#CC79A7\", \"#F0E442\"\n",
    "plt.figure(figsize=(16, 5))\n",
    "plt.plot(y_predict[:,0], color=\"#E69F00\", label='Predicted')\n",
    "plt.plot(y_test[:,0], color=\"#56B4E9\", label='Test')\n",
    "plt.title(\"SI north\")\n",
    "plt.legend()\n",
    "plt.show()\n",
    "\n",
    "plt.figure(figsize=(16, 5))\n",
    "plt.plot(y_predict[:,1], color=\"#009E73\", label='Predicted')\n",
    "plt.plot(y_test[:,1], color=\"#0072B2\", label='Test')\n",
    "plt.title(\"SI south\")\n",
    "plt.legend()\n",
    "plt.show()\n",
    "\n",
    "plt.figure(figsize=(16, 5))\n",
    "plt.plot(y_predict[19700:20700,0], color=\"#E69F00\", label='Predicted')\n",
    "plt.plot(y_test[19700:20700,0], color=\"#56B4E9\", label='Test')\n",
    "plt.title(\"SI north\")\n",
    "plt.legend()\n",
    "plt.show()\n",
    "\n",
    "plt.figure(figsize=(16, 5))\n",
    "plt.plot(y_predict[19700:20700,1], color=\"#009E73\", label='Predicted')\n",
    "plt.plot(y_test[19700:20700,1], color=\"#0072B2\", label='Test')\n",
    "plt.title(\"SI south\")\n",
    "plt.legend()\n",
    "plt.show()"
   ]
  },
  {
   "cell_type": "code",
   "execution_count": null,
   "id": "66637271",
   "metadata": {},
   "outputs": [],
   "source": [
    "# apply to unseen data\n",
    "# 2023-12-28\n",
    "data_new = pd.read_csv('data/2023-12/[170] 2023-12-28.txt',sep='\t')\n",
    "\n",
    "SI_data = data_new[['Tm', 'AvgGmod05_N_1','AvgGmod05_S_1', 'AvgHamb_1', 'AvgTamb_1', 'AvgTmod05_N_1', 'AvgTmod05_S_1', 'AvgWindS_1', 'AvgWindD_1']]\n",
    "SI_data = SI_data.set_index('Tm')\n",
    "\n",
    "SI_north = SI_data['AvgGmod05_N_1'].to_numpy()\n",
    "SI_south = SI_data['AvgGmod05_S_1'].to_numpy()\n",
    "Ambient_humidity = SI_data['AvgHamb_1'].to_numpy()\n",
    "Ambient_temp = SI_data['AvgTamb_1'].to_numpy()\n",
    "Temp_north = SI_data['AvgTmod05_N_1'].to_numpy()\n",
    "Temp_south = SI_data['AvgTmod05_S_1'].to_numpy()\n",
    "Wind_speed = SI_data['AvgWindS_1'].to_numpy()\n",
    "Wind_direction = SI_data['AvgWindD_1'].to_numpy()\n",
    "\n",
    "def generate_data(data):\n",
    "  win_length = 15\n",
    "  count = 0\n",
    "  data_train = []\n",
    "  data_test = []\n",
    "  while count < len(data):\n",
    "    if count + win_length + 1 < len(data):\n",
    "      data_train.append(data[count:count+win_length])\n",
    "      data_test.append(data[count+win_length+1])\n",
    "      count = count + 1\n",
    "    else:\n",
    "      break\n",
    "  return np.array(data_train).reshape(-1, win_length, 1), np.array(data_test).reshape(-1, 1)\n",
    "\n",
    "SI_north_train, SI_north_test = generate_data(SI_north)\n",
    "SI_south_train, SI_south_test = generate_data(SI_south)\n",
    "Ambient_humidity_train, Ambient_humidity_test = generate_data(Ambient_humidity)\n",
    "Ambient_temp_train, Ambient_temp_test = generate_data(Ambient_temp)\n",
    "Temp_north_train, Temp_north_test = generate_data(Temp_north)\n",
    "Temp_south_train, Temp_south_test = generate_data(Temp_south)\n",
    "Wind_speed_train, Wind_speed_test = generate_data(Wind_speed)\n",
    "Wind_direction_train, Wind_direction_test = generate_data(Wind_direction)\n",
    "\n",
    "data_train = np.concatenate([SI_south_train, SI_north_train, Ambient_humidity_train, Ambient_temp_train, Temp_north_train, Temp_south_train, Wind_speed_train, Wind_direction_train], axis=2)\n",
    "data_test = np.concatenate([SI_south_test, SI_north_test], axis=1)\n",
    "\n",
    "win_length = 15\n",
    "X = scaler_X.transform(data_train.reshape(-1, 8)).reshape(-1, win_length, 8)\n",
    "y = scaler_y.transform(data_test.reshape(-1, 2)).reshape(-1, 2)\n",
    "\n",
    "y_predict = model.predict(X)\n",
    "\n",
    "y_predict = y_predict.reshape(-1,2)\n",
    "y_predict = scaler_y.inverse_transform(y_predict)\n",
    "y_predict = y_predict.reshape(-1,2)\n",
    "\n",
    "loss = model.evaluate(X, y, batch_size=256)\n",
    "print('loss: ', loss)\n",
    "\n",
    "# color code: \"#E69F00\", \"#56B4E9\", \"#009E73\", \"#0072B2\", \"#D55E00\", \"#CC79A7\", \"#F0E442\"\n",
    "plt.figure(figsize=(10, 6))\n",
    "plt.rc('font', size=20)\n",
    "plt.plot(y_predict[:,0], color=\"#E69F00\", label='Predicted')\n",
    "plt.plot(data_test[:,0], color=\"#56B4E9\", label='Test')\n",
    "# plt.title(\"SI north\")\n",
    "plt.legend()\n",
    "plt.xlabel(\"Time\")\n",
    "plt.ylabel(\"Magnitude\")\n",
    "plt.margins(x=0)\n",
    "plt.ticklabel_format(style='sci', axis='y', scilimits=(0,0))\n",
    "plt.xticks(fontsize=20)\n",
    "plt.yticks(fontsize=20)\n",
    "plt.savefig('si_north_rnn_256_testing.pdf')\n",
    "plt.show()\n",
    "\n",
    "plt.figure(figsize=(10, 6))\n",
    "plt.plot(y_predict[:,1], color=\"#0072B2\", label='Predicted')\n",
    "plt.plot(data_test[:,1], color=\"#D55E00\", label='Test')\n",
    "# plt.title(\"SI south\")\n",
    "plt.legend()\n",
    "plt.xlabel(\"Time\")\n",
    "plt.ylabel(\"Magnitude\")\n",
    "plt.margins(x=0)\n",
    "plt.ticklabel_format(style='sci', axis='y', scilimits=(0,0))\n",
    "plt.xticks(fontsize=20)\n",
    "plt.yticks(fontsize=20)\n",
    "plt.savefig('si_south_rnn_256_testing.pdf')\n",
    "plt.show()"
   ]
  },
  {
   "cell_type": "code",
   "execution_count": null,
   "id": "4b878bdd",
   "metadata": {},
   "outputs": [],
   "source": [
    "# apply to unseen data\n",
    "# 2024-01-01\n",
    "data_new = pd.read_csv('data/2024-01/[170] 2024-01-01.txt',sep='\t')\n",
    "\n",
    "SI_data = data_new[['Tm', 'AvgGmod05_N_1','AvgGmod05_S_1', 'AvgHamb_1', 'AvgTamb_1', 'AvgTmod05_N_1', 'AvgTmod05_S_1', 'AvgWindS_1', 'AvgWindD_1']]\n",
    "SI_data = SI_data.set_index('Tm')\n",
    "\n",
    "SI_north = SI_data['AvgGmod05_N_1'].to_numpy()\n",
    "SI_south = SI_data['AvgGmod05_S_1'].to_numpy()\n",
    "Ambient_humidity = SI_data['AvgHamb_1'].to_numpy()\n",
    "Ambient_temp = SI_data['AvgTamb_1'].to_numpy()\n",
    "Temp_north = SI_data['AvgTmod05_N_1'].to_numpy()\n",
    "Temp_south = SI_data['AvgTmod05_S_1'].to_numpy()\n",
    "Wind_speed = SI_data['AvgWindS_1'].to_numpy()\n",
    "Wind_direction = SI_data['AvgWindD_1'].to_numpy()\n",
    "\n",
    "def generate_data(data):\n",
    "  win_length = 15\n",
    "  count = 0\n",
    "  data_train = []\n",
    "  data_test = []\n",
    "  while count < len(data):\n",
    "    if count + win_length + 1 < len(data):\n",
    "      data_train.append(data[count:count+win_length])\n",
    "      data_test.append(data[count+win_length+1])\n",
    "      count = count + 1\n",
    "    else:\n",
    "      break\n",
    "  return np.array(data_train).reshape(-1, win_length, 1), np.array(data_test).reshape(-1, 1)\n",
    "\n",
    "SI_north_train, SI_north_test = generate_data(SI_north)\n",
    "SI_south_train, SI_south_test = generate_data(SI_south)\n",
    "Ambient_humidity_train, Ambient_humidity_test = generate_data(Ambient_humidity)\n",
    "Ambient_temp_train, Ambient_temp_test = generate_data(Ambient_temp)\n",
    "Temp_north_train, Temp_north_test = generate_data(Temp_north)\n",
    "Temp_south_train, Temp_south_test = generate_data(Temp_south)\n",
    "Wind_speed_train, Wind_speed_test = generate_data(Wind_speed)\n",
    "Wind_direction_train, Wind_direction_test = generate_data(Wind_direction)\n",
    "\n",
    "data_train = np.concatenate([SI_south_train, SI_north_train, Ambient_humidity_train, Ambient_temp_train, Temp_north_train, Temp_south_train, Wind_speed_train, Wind_direction_train], axis=2)\n",
    "data_test = np.concatenate([SI_south_test, SI_north_test], axis=1)\n",
    "\n",
    "win_length = 15\n",
    "X = scaler_X.transform(data_train.reshape(-1, 8)).reshape(-1, win_length, 8)\n",
    "y = scaler_y.transform(data_test.reshape(-1, 2)).reshape(-1, 2)\n",
    "\n",
    "y_predict = model.predict(X)\n",
    "\n",
    "y_predict = y_predict.reshape(-1,2)\n",
    "y_predict = scaler_y.inverse_transform(y_predict)\n",
    "y_predict = y_predict.reshape(-1,2)\n",
    "\n",
    "loss = model.evaluate(X, y, batch_size=256)\n",
    "print('loss: ', loss)\n",
    "\n",
    "# color code: \"#E69F00\", \"#56B4E9\", \"#009E73\", \"#0072B2\", \"#D55E00\", \"#CC79A7\", \"#F0E442\"\n",
    "plt.figure(figsize=(10, 6))\n",
    "plt.rc('font', size=20)\n",
    "plt.plot(y_predict[:,0], color=\"#E69F00\", label='Predicted')\n",
    "plt.plot(data_test[:,0], color=\"#56B4E9\", label='Test')\n",
    "# plt.title(\"SI north\")\n",
    "plt.legend()\n",
    "plt.xlabel(\"Time\")\n",
    "plt.ylabel(\"Magnitude\")\n",
    "plt.margins(x=0)\n",
    "plt.ticklabel_format(style='sci', axis='y', scilimits=(0,0))\n",
    "plt.xticks(fontsize=20)\n",
    "plt.yticks(fontsize=20)\n",
    "plt.savefig('si_north_rnn_256_unseen.pdf')\n",
    "plt.show()\n",
    "\n",
    "plt.figure(figsize=(10, 6))\n",
    "plt.plot(y_predict[:,1], color=\"#0072B2\", label='Predicted')\n",
    "plt.plot(data_test[:,1], color=\"#D55E00\", label='Test')\n",
    "# plt.title(\"SI south\")\n",
    "plt.legend()\n",
    "plt.xlabel(\"Time\")\n",
    "plt.ylabel(\"Magnitude\")\n",
    "plt.margins(x=0)\n",
    "plt.ticklabel_format(style='sci', axis='y', scilimits=(0,0))\n",
    "plt.xticks(fontsize=20)\n",
    "plt.yticks(fontsize=20)\n",
    "plt.savefig('si_south_rnn_256_unseen.pdf')\n",
    "plt.show()"
   ]
  }
 ],
 "metadata": {
  "colab": {
   "provenance": []
  },
  "kernelspec": {
   "display_name": "Python 3 (ipykernel)",
   "language": "python",
   "name": "python3"
  },
  "language_info": {
   "codemirror_mode": {
    "name": "ipython",
    "version": 3
   },
   "file_extension": ".py",
   "mimetype": "text/x-python",
   "name": "python",
   "nbconvert_exporter": "python",
   "pygments_lexer": "ipython3",
   "version": "3.11.3"
  }
 },
 "nbformat": 4,
 "nbformat_minor": 5
}
